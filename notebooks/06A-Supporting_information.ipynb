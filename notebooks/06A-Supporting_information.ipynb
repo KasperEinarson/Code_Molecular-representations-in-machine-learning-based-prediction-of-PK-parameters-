{
 "cells": [
  {
   "cell_type": "code",
   "execution_count": 1,
   "id": "26e26c14-2ecb-4845-ae5e-f90913fa11be",
   "metadata": {},
   "outputs": [
    {
     "name": "stdout",
     "output_type": "stream",
     "text": [
      "[NbConvertApp] Converting notebook 06A-Supporting_information.ipynb to script\n",
      "[NbConvertApp] Writing 13817 bytes to 06A-Supporting_information.py\n"
     ]
    }
   ],
   "source": [
    "from matplotlib import pyplot as plt\n",
    "import pickle\n",
    "import seaborn as sns\n",
    "import pandas as pd\n",
    "from sklearn.metrics import r2_score, mean_squared_error\n",
    "import matplotlib.patches as mpatches\n",
    "import numpy as np\n",
    "from scipy import stats\n",
    "from matplotlib.patches import Patch\n",
    "from matplotlib.lines import Line2D\n",
    "from matplotlib.patches import Rectangle\n",
    "from scipy.stats import rankdata\n",
    "from sklearn.pipeline import Pipeline\n",
    "from sklearn.preprocessing import OneHotEncoder\n",
    "from sklearn.decomposition import PCA\n",
    "from sklearn.compose import ColumnTransformer\n",
    "from sklearn.ensemble import RandomForestRegressor\n",
    "from sklearn.model_selection import GridSearchCV\n",
    "from sklearn.metrics import mean_squared_error as mse, make_scorer\n",
    "from scipy.cluster.hierarchy import linkage, dendrogram, fcluster\n",
    "from scipy.spatial.distance import squareform\n",
    "from sklearn.model_selection import GroupKFold,GroupShuffleSplit\n",
    "from sklearn.preprocessing import StandardScaler\n",
    "from itertools import repeat, chain\n",
    "from torch.utils.data import Dataset, DataLoader\n",
    "plt.style.use('ggplot')\n",
    "sns.set(font_scale=2)\n",
    "\n",
    "import sys\n",
    "sys.path.append('../src/insulin_pk/utils/') \n",
    "from utils import *\n",
    "Data_with_groups = pd.read_excel(\"../data/raw/Data_with_groups.xlsx\")\n",
    "Data_with_groups.rename(columns={\"NNCNo\": \"nncno\"})\n",
    "Data_with_groups.set_index(\"NNCNo\",inplace=True)\n",
    "Data_with_groups = Data_with_groups[~Data_with_groups.index.isin([\"0148-0000-1247\"])]\n",
    "Full_data = pd.read_csv(\"../data/processed/full_data_set.csv\")\n",
    "Full_data.set_index(\"nncno\",inplace=True)\n",
    "PK_names = [\"CL[ml/min/kg]\",\"T1/2[h]\",\"MRT[h]\"]\n",
    "data_wg = pd.merge(Full_data, Data_with_groups[\"Groups\"], left_index=True, right_index=True)\n",
    "data_wg.index.name = \"nncno\"\n",
    "!jupyter nbconvert --to script \"06A-Supporting_information.ipynb\""
   ]
  },
  {
   "cell_type": "code",
   "execution_count": 2,
   "id": "0a809cfb-6126-4c61-a662-c072e410bd4c",
   "metadata": {},
   "outputs": [],
   "source": [
    "# Set overall parameters for optimization:\n",
    "KFold_outer = GroupKFold(n_splits=5)\n",
    "param_grid = {\n",
    "    'RF__n_estimators': [200],\n",
    "    'RF__min_samples_leaf': [1,3,5,7,9],\n",
    "    'RF__max_features': [\"sqrt\",\"log2\"]\n",
    "    } \n",
    "def r2_rmse(g):\n",
    "    '''\n",
    "    Function to calculate root-mean-square-error (RMSE) between two columns \"observations\" and \"predictions\"\n",
    "    \n",
    "    '''\n",
    "    r2 = r2_score( g['observations'], g['predictions'] )\n",
    "    rmse = np.sqrt( mean_squared_error( g['observations'], g['predictions'] ) )\n",
    "    return pd.Series(dict(rmse = rmse))"
   ]
  },
  {
   "cell_type": "code",
   "execution_count": 5,
   "id": "8f0e2e0e-9901-4c87-bff4-b477df699571",
   "metadata": {},
   "outputs": [
    {
     "name": "stdout",
     "output_type": "stream",
     "text": [
      "---- Evaluating group: Other with 122 variables and 44 rows ------\n",
      "Fitting 1 folds for each of 10 candidates, totalling 10 fits\n"
     ]
    },
    {
     "name": "stderr",
     "output_type": "stream",
     "text": [
      "/tmp/ipykernel_190/4221966295.py:18: SettingWithCopyWarning: \n",
      "A value is trying to be set on a copy of a slice from a DataFrame\n",
      "\n",
      "See the caveats in the documentation: https://pandas.pydata.org/pandas-docs/stable/user_guide/indexing.html#returning-a-view-versus-a-copy\n",
      "  data.drop(\"Groups\",axis=1,inplace=True)\n"
     ]
    },
    {
     "name": "stdout",
     "output_type": "stream",
     "text": [
      "Fitting 1 folds for each of 10 candidates, totalling 10 fits\n",
      "Fitting 1 folds for each of 10 candidates, totalling 10 fits\n",
      "Fitting 1 folds for each of 10 candidates, totalling 10 fits\n",
      "Fitting 1 folds for each of 10 candidates, totalling 10 fits\n",
      "---- Evaluating group: Acylation with 122 variables and 338 rows ------\n",
      "Fitting 1 folds for each of 10 candidates, totalling 10 fits\n"
     ]
    },
    {
     "name": "stderr",
     "output_type": "stream",
     "text": [
      "/tmp/ipykernel_190/4221966295.py:18: SettingWithCopyWarning: \n",
      "A value is trying to be set on a copy of a slice from a DataFrame\n",
      "\n",
      "See the caveats in the documentation: https://pandas.pydata.org/pandas-docs/stable/user_guide/indexing.html#returning-a-view-versus-a-copy\n",
      "  data.drop(\"Groups\",axis=1,inplace=True)\n"
     ]
    },
    {
     "name": "stdout",
     "output_type": "stream",
     "text": [
      "Fitting 1 folds for each of 10 candidates, totalling 10 fits\n",
      "Fitting 1 folds for each of 10 candidates, totalling 10 fits\n",
      "Fitting 1 folds for each of 10 candidates, totalling 10 fits\n",
      "Fitting 1 folds for each of 10 candidates, totalling 10 fits\n",
      "---- Evaluating group: No attachments with 122 variables and 9 rows ------\n",
      "Fitting 1 folds for each of 10 candidates, totalling 10 fits\n"
     ]
    },
    {
     "name": "stderr",
     "output_type": "stream",
     "text": [
      "/tmp/ipykernel_190/4221966295.py:18: SettingWithCopyWarning: \n",
      "A value is trying to be set on a copy of a slice from a DataFrame\n",
      "\n",
      "See the caveats in the documentation: https://pandas.pydata.org/pandas-docs/stable/user_guide/indexing.html#returning-a-view-versus-a-copy\n",
      "  data.drop(\"Groups\",axis=1,inplace=True)\n"
     ]
    },
    {
     "name": "stdout",
     "output_type": "stream",
     "text": [
      "Fitting 1 folds for each of 10 candidates, totalling 10 fits\n",
      "Fitting 1 folds for each of 10 candidates, totalling 10 fits\n",
      "Fitting 1 folds for each of 10 candidates, totalling 10 fits\n",
      "Fitting 1 folds for each of 10 candidates, totalling 10 fits\n",
      "---- Evaluating group: Concatenated proteins with 122 variables and 154 rows ------\n",
      "Fitting 1 folds for each of 10 candidates, totalling 10 fits\n"
     ]
    },
    {
     "name": "stderr",
     "output_type": "stream",
     "text": [
      "/tmp/ipykernel_190/4221966295.py:18: SettingWithCopyWarning: \n",
      "A value is trying to be set on a copy of a slice from a DataFrame\n",
      "\n",
      "See the caveats in the documentation: https://pandas.pydata.org/pandas-docs/stable/user_guide/indexing.html#returning-a-view-versus-a-copy\n",
      "  data.drop(\"Groups\",axis=1,inplace=True)\n"
     ]
    },
    {
     "name": "stdout",
     "output_type": "stream",
     "text": [
      "Fitting 1 folds for each of 10 candidates, totalling 10 fits\n",
      "Fitting 1 folds for each of 10 candidates, totalling 10 fits\n",
      "Fitting 1 folds for each of 10 candidates, totalling 10 fits\n",
      "Fitting 1 folds for each of 10 candidates, totalling 10 fits\n",
      "---- Evaluating group: Antibody attachment (Fc) with 122 variables and 60 rows ------\n",
      "Fitting 1 folds for each of 10 candidates, totalling 10 fits\n"
     ]
    },
    {
     "name": "stderr",
     "output_type": "stream",
     "text": [
      "/tmp/ipykernel_190/4221966295.py:18: SettingWithCopyWarning: \n",
      "A value is trying to be set on a copy of a slice from a DataFrame\n",
      "\n",
      "See the caveats in the documentation: https://pandas.pydata.org/pandas-docs/stable/user_guide/indexing.html#returning-a-view-versus-a-copy\n",
      "  data.drop(\"Groups\",axis=1,inplace=True)\n",
      "/home/kyei/.local/lib/python3.9/site-packages/sklearn/decomposition/_pca.py:470: RuntimeWarning: invalid value encountered in divide\n",
      "  explained_variance_ratio_ = explained_variance_ / total_var\n",
      "/home/kyei/.local/lib/python3.9/site-packages/sklearn/decomposition/_pca.py:470: RuntimeWarning: invalid value encountered in divide\n",
      "  explained_variance_ratio_ = explained_variance_ / total_var\n",
      "/home/kyei/.local/lib/python3.9/site-packages/sklearn/decomposition/_pca.py:470: RuntimeWarning: invalid value encountered in divide\n",
      "  explained_variance_ratio_ = explained_variance_ / total_var\n",
      "/home/kyei/.local/lib/python3.9/site-packages/sklearn/decomposition/_pca.py:470: RuntimeWarning: invalid value encountered in divide\n",
      "  explained_variance_ratio_ = explained_variance_ / total_var\n",
      "/home/kyei/.local/lib/python3.9/site-packages/sklearn/decomposition/_pca.py:470: RuntimeWarning: invalid value encountered in divide\n",
      "  explained_variance_ratio_ = explained_variance_ / total_var\n",
      "/home/kyei/.local/lib/python3.9/site-packages/sklearn/decomposition/_pca.py:470: RuntimeWarning: invalid value encountered in divide\n",
      "  explained_variance_ratio_ = explained_variance_ / total_var\n",
      "/home/kyei/.local/lib/python3.9/site-packages/sklearn/decomposition/_pca.py:470: RuntimeWarning: invalid value encountered in divide\n",
      "  explained_variance_ratio_ = explained_variance_ / total_var\n",
      "/home/kyei/.local/lib/python3.9/site-packages/sklearn/decomposition/_pca.py:470: RuntimeWarning: invalid value encountered in divide\n",
      "  explained_variance_ratio_ = explained_variance_ / total_var\n",
      "/home/kyei/.local/lib/python3.9/site-packages/sklearn/decomposition/_pca.py:470: RuntimeWarning: invalid value encountered in divide\n",
      "  explained_variance_ratio_ = explained_variance_ / total_var\n",
      "/home/kyei/.local/lib/python3.9/site-packages/sklearn/decomposition/_pca.py:470: RuntimeWarning: invalid value encountered in divide\n",
      "  explained_variance_ratio_ = explained_variance_ / total_var\n",
      "/home/kyei/.local/lib/python3.9/site-packages/sklearn/decomposition/_pca.py:470: RuntimeWarning: invalid value encountered in divide\n",
      "  explained_variance_ratio_ = explained_variance_ / total_var\n"
     ]
    },
    {
     "name": "stdout",
     "output_type": "stream",
     "text": [
      "Fitting 1 folds for each of 10 candidates, totalling 10 fits\n"
     ]
    },
    {
     "name": "stderr",
     "output_type": "stream",
     "text": [
      "/home/kyei/.local/lib/python3.9/site-packages/sklearn/decomposition/_pca.py:470: RuntimeWarning: invalid value encountered in divide\n",
      "  explained_variance_ratio_ = explained_variance_ / total_var\n",
      "/home/kyei/.local/lib/python3.9/site-packages/sklearn/decomposition/_pca.py:470: RuntimeWarning: invalid value encountered in divide\n",
      "  explained_variance_ratio_ = explained_variance_ / total_var\n",
      "/home/kyei/.local/lib/python3.9/site-packages/sklearn/decomposition/_pca.py:470: RuntimeWarning: invalid value encountered in divide\n",
      "  explained_variance_ratio_ = explained_variance_ / total_var\n",
      "/home/kyei/.local/lib/python3.9/site-packages/sklearn/decomposition/_pca.py:470: RuntimeWarning: invalid value encountered in divide\n",
      "  explained_variance_ratio_ = explained_variance_ / total_var\n",
      "/home/kyei/.local/lib/python3.9/site-packages/sklearn/decomposition/_pca.py:470: RuntimeWarning: invalid value encountered in divide\n",
      "  explained_variance_ratio_ = explained_variance_ / total_var\n",
      "/home/kyei/.local/lib/python3.9/site-packages/sklearn/decomposition/_pca.py:470: RuntimeWarning: invalid value encountered in divide\n",
      "  explained_variance_ratio_ = explained_variance_ / total_var\n",
      "/home/kyei/.local/lib/python3.9/site-packages/sklearn/decomposition/_pca.py:470: RuntimeWarning: invalid value encountered in divide\n",
      "  explained_variance_ratio_ = explained_variance_ / total_var\n",
      "/home/kyei/.local/lib/python3.9/site-packages/sklearn/decomposition/_pca.py:470: RuntimeWarning: invalid value encountered in divide\n",
      "  explained_variance_ratio_ = explained_variance_ / total_var\n",
      "/home/kyei/.local/lib/python3.9/site-packages/sklearn/decomposition/_pca.py:470: RuntimeWarning: invalid value encountered in divide\n",
      "  explained_variance_ratio_ = explained_variance_ / total_var\n",
      "/home/kyei/.local/lib/python3.9/site-packages/sklearn/decomposition/_pca.py:470: RuntimeWarning: invalid value encountered in divide\n",
      "  explained_variance_ratio_ = explained_variance_ / total_var\n",
      "/home/kyei/.local/lib/python3.9/site-packages/sklearn/decomposition/_pca.py:470: RuntimeWarning: invalid value encountered in divide\n",
      "  explained_variance_ratio_ = explained_variance_ / total_var\n"
     ]
    },
    {
     "name": "stdout",
     "output_type": "stream",
     "text": [
      "Fitting 1 folds for each of 10 candidates, totalling 10 fits\n"
     ]
    },
    {
     "name": "stderr",
     "output_type": "stream",
     "text": [
      "/home/kyei/.local/lib/python3.9/site-packages/sklearn/decomposition/_pca.py:470: RuntimeWarning: invalid value encountered in divide\n",
      "  explained_variance_ratio_ = explained_variance_ / total_var\n",
      "/home/kyei/.local/lib/python3.9/site-packages/sklearn/decomposition/_pca.py:470: RuntimeWarning: invalid value encountered in divide\n",
      "  explained_variance_ratio_ = explained_variance_ / total_var\n",
      "/home/kyei/.local/lib/python3.9/site-packages/sklearn/decomposition/_pca.py:470: RuntimeWarning: invalid value encountered in divide\n",
      "  explained_variance_ratio_ = explained_variance_ / total_var\n",
      "/home/kyei/.local/lib/python3.9/site-packages/sklearn/decomposition/_pca.py:470: RuntimeWarning: invalid value encountered in divide\n",
      "  explained_variance_ratio_ = explained_variance_ / total_var\n",
      "/home/kyei/.local/lib/python3.9/site-packages/sklearn/decomposition/_pca.py:470: RuntimeWarning: invalid value encountered in divide\n",
      "  explained_variance_ratio_ = explained_variance_ / total_var\n",
      "/home/kyei/.local/lib/python3.9/site-packages/sklearn/decomposition/_pca.py:470: RuntimeWarning: invalid value encountered in divide\n",
      "  explained_variance_ratio_ = explained_variance_ / total_var\n",
      "/home/kyei/.local/lib/python3.9/site-packages/sklearn/decomposition/_pca.py:470: RuntimeWarning: invalid value encountered in divide\n",
      "  explained_variance_ratio_ = explained_variance_ / total_var\n",
      "/home/kyei/.local/lib/python3.9/site-packages/sklearn/decomposition/_pca.py:470: RuntimeWarning: invalid value encountered in divide\n",
      "  explained_variance_ratio_ = explained_variance_ / total_var\n",
      "/home/kyei/.local/lib/python3.9/site-packages/sklearn/decomposition/_pca.py:470: RuntimeWarning: invalid value encountered in divide\n",
      "  explained_variance_ratio_ = explained_variance_ / total_var\n",
      "/home/kyei/.local/lib/python3.9/site-packages/sklearn/decomposition/_pca.py:470: RuntimeWarning: invalid value encountered in divide\n",
      "  explained_variance_ratio_ = explained_variance_ / total_var\n",
      "/home/kyei/.local/lib/python3.9/site-packages/sklearn/decomposition/_pca.py:470: RuntimeWarning: invalid value encountered in divide\n",
      "  explained_variance_ratio_ = explained_variance_ / total_var\n"
     ]
    },
    {
     "name": "stdout",
     "output_type": "stream",
     "text": [
      "Fitting 1 folds for each of 10 candidates, totalling 10 fits\n"
     ]
    },
    {
     "name": "stderr",
     "output_type": "stream",
     "text": [
      "/home/kyei/.local/lib/python3.9/site-packages/sklearn/decomposition/_pca.py:470: RuntimeWarning: invalid value encountered in divide\n",
      "  explained_variance_ratio_ = explained_variance_ / total_var\n",
      "/home/kyei/.local/lib/python3.9/site-packages/sklearn/decomposition/_pca.py:470: RuntimeWarning: invalid value encountered in divide\n",
      "  explained_variance_ratio_ = explained_variance_ / total_var\n",
      "/home/kyei/.local/lib/python3.9/site-packages/sklearn/decomposition/_pca.py:470: RuntimeWarning: invalid value encountered in divide\n",
      "  explained_variance_ratio_ = explained_variance_ / total_var\n",
      "/home/kyei/.local/lib/python3.9/site-packages/sklearn/decomposition/_pca.py:470: RuntimeWarning: invalid value encountered in divide\n",
      "  explained_variance_ratio_ = explained_variance_ / total_var\n",
      "/home/kyei/.local/lib/python3.9/site-packages/sklearn/decomposition/_pca.py:470: RuntimeWarning: invalid value encountered in divide\n",
      "  explained_variance_ratio_ = explained_variance_ / total_var\n",
      "/home/kyei/.local/lib/python3.9/site-packages/sklearn/decomposition/_pca.py:470: RuntimeWarning: invalid value encountered in divide\n",
      "  explained_variance_ratio_ = explained_variance_ / total_var\n",
      "/home/kyei/.local/lib/python3.9/site-packages/sklearn/decomposition/_pca.py:470: RuntimeWarning: invalid value encountered in divide\n",
      "  explained_variance_ratio_ = explained_variance_ / total_var\n",
      "/home/kyei/.local/lib/python3.9/site-packages/sklearn/decomposition/_pca.py:470: RuntimeWarning: invalid value encountered in divide\n",
      "  explained_variance_ratio_ = explained_variance_ / total_var\n",
      "/home/kyei/.local/lib/python3.9/site-packages/sklearn/decomposition/_pca.py:470: RuntimeWarning: invalid value encountered in divide\n",
      "  explained_variance_ratio_ = explained_variance_ / total_var\n",
      "/home/kyei/.local/lib/python3.9/site-packages/sklearn/decomposition/_pca.py:470: RuntimeWarning: invalid value encountered in divide\n",
      "  explained_variance_ratio_ = explained_variance_ / total_var\n",
      "/home/kyei/.local/lib/python3.9/site-packages/sklearn/decomposition/_pca.py:470: RuntimeWarning: invalid value encountered in divide\n",
      "  explained_variance_ratio_ = explained_variance_ / total_var\n"
     ]
    },
    {
     "name": "stdout",
     "output_type": "stream",
     "text": [
      "Fitting 1 folds for each of 10 candidates, totalling 10 fits\n"
     ]
    },
    {
     "name": "stderr",
     "output_type": "stream",
     "text": [
      "/home/kyei/.local/lib/python3.9/site-packages/sklearn/decomposition/_pca.py:470: RuntimeWarning: invalid value encountered in divide\n",
      "  explained_variance_ratio_ = explained_variance_ / total_var\n",
      "/home/kyei/.local/lib/python3.9/site-packages/sklearn/decomposition/_pca.py:470: RuntimeWarning: invalid value encountered in divide\n",
      "  explained_variance_ratio_ = explained_variance_ / total_var\n",
      "/home/kyei/.local/lib/python3.9/site-packages/sklearn/decomposition/_pca.py:470: RuntimeWarning: invalid value encountered in divide\n",
      "  explained_variance_ratio_ = explained_variance_ / total_var\n",
      "/home/kyei/.local/lib/python3.9/site-packages/sklearn/decomposition/_pca.py:470: RuntimeWarning: invalid value encountered in divide\n",
      "  explained_variance_ratio_ = explained_variance_ / total_var\n",
      "/home/kyei/.local/lib/python3.9/site-packages/sklearn/decomposition/_pca.py:470: RuntimeWarning: invalid value encountered in divide\n",
      "  explained_variance_ratio_ = explained_variance_ / total_var\n",
      "/home/kyei/.local/lib/python3.9/site-packages/sklearn/decomposition/_pca.py:470: RuntimeWarning: invalid value encountered in divide\n",
      "  explained_variance_ratio_ = explained_variance_ / total_var\n",
      "/home/kyei/.local/lib/python3.9/site-packages/sklearn/decomposition/_pca.py:470: RuntimeWarning: invalid value encountered in divide\n",
      "  explained_variance_ratio_ = explained_variance_ / total_var\n",
      "/home/kyei/.local/lib/python3.9/site-packages/sklearn/decomposition/_pca.py:470: RuntimeWarning: invalid value encountered in divide\n",
      "  explained_variance_ratio_ = explained_variance_ / total_var\n",
      "/home/kyei/.local/lib/python3.9/site-packages/sklearn/decomposition/_pca.py:470: RuntimeWarning: invalid value encountered in divide\n",
      "  explained_variance_ratio_ = explained_variance_ / total_var\n",
      "/home/kyei/.local/lib/python3.9/site-packages/sklearn/decomposition/_pca.py:470: RuntimeWarning: invalid value encountered in divide\n",
      "  explained_variance_ratio_ = explained_variance_ / total_var\n",
      "/home/kyei/.local/lib/python3.9/site-packages/sklearn/decomposition/_pca.py:470: RuntimeWarning: invalid value encountered in divide\n",
      "  explained_variance_ratio_ = explained_variance_ / total_var\n"
     ]
    },
    {
     "name": "stdout",
     "output_type": "stream",
     "text": [
      "---- Evaluating group: AA extensions with 122 variables and 35 rows ------\n",
      "Fitting 1 folds for each of 10 candidates, totalling 10 fits\n"
     ]
    },
    {
     "name": "stderr",
     "output_type": "stream",
     "text": [
      "/tmp/ipykernel_190/4221966295.py:18: SettingWithCopyWarning: \n",
      "A value is trying to be set on a copy of a slice from a DataFrame\n",
      "\n",
      "See the caveats in the documentation: https://pandas.pydata.org/pandas-docs/stable/user_guide/indexing.html#returning-a-view-versus-a-copy\n",
      "  data.drop(\"Groups\",axis=1,inplace=True)\n",
      "/home/kyei/.local/lib/python3.9/site-packages/sklearn/decomposition/_pca.py:470: RuntimeWarning: invalid value encountered in divide\n",
      "  explained_variance_ratio_ = explained_variance_ / total_var\n",
      "/home/kyei/.local/lib/python3.9/site-packages/sklearn/decomposition/_pca.py:470: RuntimeWarning: invalid value encountered in divide\n",
      "  explained_variance_ratio_ = explained_variance_ / total_var\n",
      "/home/kyei/.local/lib/python3.9/site-packages/sklearn/decomposition/_pca.py:470: RuntimeWarning: invalid value encountered in divide\n",
      "  explained_variance_ratio_ = explained_variance_ / total_var\n",
      "/home/kyei/.local/lib/python3.9/site-packages/sklearn/decomposition/_pca.py:470: RuntimeWarning: invalid value encountered in divide\n",
      "  explained_variance_ratio_ = explained_variance_ / total_var\n",
      "/home/kyei/.local/lib/python3.9/site-packages/sklearn/decomposition/_pca.py:470: RuntimeWarning: invalid value encountered in divide\n",
      "  explained_variance_ratio_ = explained_variance_ / total_var\n",
      "/home/kyei/.local/lib/python3.9/site-packages/sklearn/decomposition/_pca.py:470: RuntimeWarning: invalid value encountered in divide\n",
      "  explained_variance_ratio_ = explained_variance_ / total_var\n",
      "/home/kyei/.local/lib/python3.9/site-packages/sklearn/decomposition/_pca.py:470: RuntimeWarning: invalid value encountered in divide\n",
      "  explained_variance_ratio_ = explained_variance_ / total_var\n",
      "/home/kyei/.local/lib/python3.9/site-packages/sklearn/decomposition/_pca.py:470: RuntimeWarning: invalid value encountered in divide\n",
      "  explained_variance_ratio_ = explained_variance_ / total_var\n",
      "/home/kyei/.local/lib/python3.9/site-packages/sklearn/decomposition/_pca.py:470: RuntimeWarning: invalid value encountered in divide\n",
      "  explained_variance_ratio_ = explained_variance_ / total_var\n",
      "/home/kyei/.local/lib/python3.9/site-packages/sklearn/decomposition/_pca.py:470: RuntimeWarning: invalid value encountered in divide\n",
      "  explained_variance_ratio_ = explained_variance_ / total_var\n",
      "/home/kyei/.local/lib/python3.9/site-packages/sklearn/decomposition/_pca.py:470: RuntimeWarning: invalid value encountered in divide\n",
      "  explained_variance_ratio_ = explained_variance_ / total_var\n"
     ]
    },
    {
     "name": "stdout",
     "output_type": "stream",
     "text": [
      "Fitting 1 folds for each of 10 candidates, totalling 10 fits\n"
     ]
    },
    {
     "name": "stderr",
     "output_type": "stream",
     "text": [
      "/home/kyei/.local/lib/python3.9/site-packages/sklearn/decomposition/_pca.py:470: RuntimeWarning: invalid value encountered in divide\n",
      "  explained_variance_ratio_ = explained_variance_ / total_var\n",
      "/home/kyei/.local/lib/python3.9/site-packages/sklearn/decomposition/_pca.py:470: RuntimeWarning: invalid value encountered in divide\n",
      "  explained_variance_ratio_ = explained_variance_ / total_var\n",
      "/home/kyei/.local/lib/python3.9/site-packages/sklearn/decomposition/_pca.py:470: RuntimeWarning: invalid value encountered in divide\n",
      "  explained_variance_ratio_ = explained_variance_ / total_var\n",
      "/home/kyei/.local/lib/python3.9/site-packages/sklearn/decomposition/_pca.py:470: RuntimeWarning: invalid value encountered in divide\n",
      "  explained_variance_ratio_ = explained_variance_ / total_var\n",
      "/home/kyei/.local/lib/python3.9/site-packages/sklearn/decomposition/_pca.py:470: RuntimeWarning: invalid value encountered in divide\n",
      "  explained_variance_ratio_ = explained_variance_ / total_var\n",
      "/home/kyei/.local/lib/python3.9/site-packages/sklearn/decomposition/_pca.py:470: RuntimeWarning: invalid value encountered in divide\n",
      "  explained_variance_ratio_ = explained_variance_ / total_var\n",
      "/home/kyei/.local/lib/python3.9/site-packages/sklearn/decomposition/_pca.py:470: RuntimeWarning: invalid value encountered in divide\n",
      "  explained_variance_ratio_ = explained_variance_ / total_var\n",
      "/home/kyei/.local/lib/python3.9/site-packages/sklearn/decomposition/_pca.py:470: RuntimeWarning: invalid value encountered in divide\n",
      "  explained_variance_ratio_ = explained_variance_ / total_var\n",
      "/home/kyei/.local/lib/python3.9/site-packages/sklearn/decomposition/_pca.py:470: RuntimeWarning: invalid value encountered in divide\n",
      "  explained_variance_ratio_ = explained_variance_ / total_var\n",
      "/home/kyei/.local/lib/python3.9/site-packages/sklearn/decomposition/_pca.py:470: RuntimeWarning: invalid value encountered in divide\n",
      "  explained_variance_ratio_ = explained_variance_ / total_var\n",
      "/home/kyei/.local/lib/python3.9/site-packages/sklearn/decomposition/_pca.py:470: RuntimeWarning: invalid value encountered in divide\n",
      "  explained_variance_ratio_ = explained_variance_ / total_var\n"
     ]
    },
    {
     "name": "stdout",
     "output_type": "stream",
     "text": [
      "Fitting 1 folds for each of 10 candidates, totalling 10 fits\n"
     ]
    },
    {
     "name": "stderr",
     "output_type": "stream",
     "text": [
      "/home/kyei/.local/lib/python3.9/site-packages/sklearn/decomposition/_pca.py:470: RuntimeWarning: invalid value encountered in divide\n",
      "  explained_variance_ratio_ = explained_variance_ / total_var\n",
      "/home/kyei/.local/lib/python3.9/site-packages/sklearn/decomposition/_pca.py:470: RuntimeWarning: invalid value encountered in divide\n",
      "  explained_variance_ratio_ = explained_variance_ / total_var\n",
      "/home/kyei/.local/lib/python3.9/site-packages/sklearn/decomposition/_pca.py:470: RuntimeWarning: invalid value encountered in divide\n",
      "  explained_variance_ratio_ = explained_variance_ / total_var\n",
      "/home/kyei/.local/lib/python3.9/site-packages/sklearn/decomposition/_pca.py:470: RuntimeWarning: invalid value encountered in divide\n",
      "  explained_variance_ratio_ = explained_variance_ / total_var\n",
      "/home/kyei/.local/lib/python3.9/site-packages/sklearn/decomposition/_pca.py:470: RuntimeWarning: invalid value encountered in divide\n",
      "  explained_variance_ratio_ = explained_variance_ / total_var\n",
      "/home/kyei/.local/lib/python3.9/site-packages/sklearn/decomposition/_pca.py:470: RuntimeWarning: invalid value encountered in divide\n",
      "  explained_variance_ratio_ = explained_variance_ / total_var\n",
      "/home/kyei/.local/lib/python3.9/site-packages/sklearn/decomposition/_pca.py:470: RuntimeWarning: invalid value encountered in divide\n",
      "  explained_variance_ratio_ = explained_variance_ / total_var\n",
      "/home/kyei/.local/lib/python3.9/site-packages/sklearn/decomposition/_pca.py:470: RuntimeWarning: invalid value encountered in divide\n",
      "  explained_variance_ratio_ = explained_variance_ / total_var\n",
      "/home/kyei/.local/lib/python3.9/site-packages/sklearn/decomposition/_pca.py:470: RuntimeWarning: invalid value encountered in divide\n",
      "  explained_variance_ratio_ = explained_variance_ / total_var\n",
      "/home/kyei/.local/lib/python3.9/site-packages/sklearn/decomposition/_pca.py:470: RuntimeWarning: invalid value encountered in divide\n",
      "  explained_variance_ratio_ = explained_variance_ / total_var\n",
      "/home/kyei/.local/lib/python3.9/site-packages/sklearn/decomposition/_pca.py:470: RuntimeWarning: invalid value encountered in divide\n",
      "  explained_variance_ratio_ = explained_variance_ / total_var\n"
     ]
    },
    {
     "name": "stdout",
     "output_type": "stream",
     "text": [
      "Fitting 1 folds for each of 10 candidates, totalling 10 fits\n"
     ]
    },
    {
     "name": "stderr",
     "output_type": "stream",
     "text": [
      "/home/kyei/.local/lib/python3.9/site-packages/sklearn/decomposition/_pca.py:470: RuntimeWarning: invalid value encountered in divide\n",
      "  explained_variance_ratio_ = explained_variance_ / total_var\n",
      "/home/kyei/.local/lib/python3.9/site-packages/sklearn/decomposition/_pca.py:470: RuntimeWarning: invalid value encountered in divide\n",
      "  explained_variance_ratio_ = explained_variance_ / total_var\n",
      "/home/kyei/.local/lib/python3.9/site-packages/sklearn/decomposition/_pca.py:470: RuntimeWarning: invalid value encountered in divide\n",
      "  explained_variance_ratio_ = explained_variance_ / total_var\n",
      "/home/kyei/.local/lib/python3.9/site-packages/sklearn/decomposition/_pca.py:470: RuntimeWarning: invalid value encountered in divide\n",
      "  explained_variance_ratio_ = explained_variance_ / total_var\n",
      "/home/kyei/.local/lib/python3.9/site-packages/sklearn/decomposition/_pca.py:470: RuntimeWarning: invalid value encountered in divide\n",
      "  explained_variance_ratio_ = explained_variance_ / total_var\n",
      "/home/kyei/.local/lib/python3.9/site-packages/sklearn/decomposition/_pca.py:470: RuntimeWarning: invalid value encountered in divide\n",
      "  explained_variance_ratio_ = explained_variance_ / total_var\n",
      "/home/kyei/.local/lib/python3.9/site-packages/sklearn/decomposition/_pca.py:470: RuntimeWarning: invalid value encountered in divide\n",
      "  explained_variance_ratio_ = explained_variance_ / total_var\n",
      "/home/kyei/.local/lib/python3.9/site-packages/sklearn/decomposition/_pca.py:470: RuntimeWarning: invalid value encountered in divide\n",
      "  explained_variance_ratio_ = explained_variance_ / total_var\n",
      "/home/kyei/.local/lib/python3.9/site-packages/sklearn/decomposition/_pca.py:470: RuntimeWarning: invalid value encountered in divide\n",
      "  explained_variance_ratio_ = explained_variance_ / total_var\n",
      "/home/kyei/.local/lib/python3.9/site-packages/sklearn/decomposition/_pca.py:470: RuntimeWarning: invalid value encountered in divide\n",
      "  explained_variance_ratio_ = explained_variance_ / total_var\n",
      "/home/kyei/.local/lib/python3.9/site-packages/sklearn/decomposition/_pca.py:470: RuntimeWarning: invalid value encountered in divide\n",
      "  explained_variance_ratio_ = explained_variance_ / total_var\n"
     ]
    },
    {
     "name": "stdout",
     "output_type": "stream",
     "text": [
      "Fitting 1 folds for each of 10 candidates, totalling 10 fits\n"
     ]
    },
    {
     "name": "stderr",
     "output_type": "stream",
     "text": [
      "/home/kyei/.local/lib/python3.9/site-packages/sklearn/decomposition/_pca.py:470: RuntimeWarning: invalid value encountered in divide\n",
      "  explained_variance_ratio_ = explained_variance_ / total_var\n",
      "/home/kyei/.local/lib/python3.9/site-packages/sklearn/decomposition/_pca.py:470: RuntimeWarning: invalid value encountered in divide\n",
      "  explained_variance_ratio_ = explained_variance_ / total_var\n",
      "/home/kyei/.local/lib/python3.9/site-packages/sklearn/decomposition/_pca.py:470: RuntimeWarning: invalid value encountered in divide\n",
      "  explained_variance_ratio_ = explained_variance_ / total_var\n",
      "/home/kyei/.local/lib/python3.9/site-packages/sklearn/decomposition/_pca.py:470: RuntimeWarning: invalid value encountered in divide\n",
      "  explained_variance_ratio_ = explained_variance_ / total_var\n",
      "/home/kyei/.local/lib/python3.9/site-packages/sklearn/decomposition/_pca.py:470: RuntimeWarning: invalid value encountered in divide\n",
      "  explained_variance_ratio_ = explained_variance_ / total_var\n",
      "/home/kyei/.local/lib/python3.9/site-packages/sklearn/decomposition/_pca.py:470: RuntimeWarning: invalid value encountered in divide\n",
      "  explained_variance_ratio_ = explained_variance_ / total_var\n",
      "/home/kyei/.local/lib/python3.9/site-packages/sklearn/decomposition/_pca.py:470: RuntimeWarning: invalid value encountered in divide\n",
      "  explained_variance_ratio_ = explained_variance_ / total_var\n",
      "/home/kyei/.local/lib/python3.9/site-packages/sklearn/decomposition/_pca.py:470: RuntimeWarning: invalid value encountered in divide\n",
      "  explained_variance_ratio_ = explained_variance_ / total_var\n",
      "/home/kyei/.local/lib/python3.9/site-packages/sklearn/decomposition/_pca.py:470: RuntimeWarning: invalid value encountered in divide\n",
      "  explained_variance_ratio_ = explained_variance_ / total_var\n",
      "/home/kyei/.local/lib/python3.9/site-packages/sklearn/decomposition/_pca.py:470: RuntimeWarning: invalid value encountered in divide\n",
      "  explained_variance_ratio_ = explained_variance_ / total_var\n",
      "/home/kyei/.local/lib/python3.9/site-packages/sklearn/decomposition/_pca.py:470: RuntimeWarning: invalid value encountered in divide\n",
      "  explained_variance_ratio_ = explained_variance_ / total_var\n"
     ]
    }
   ],
   "source": [
    "# Initialize dicts for outer test error and scatterplot\n",
    "Output_dict = {}\n",
    "Output_scatter_dict = {}\n",
    "Output_Hyperparameter_dict = {}\n",
    "\n",
    "# Define descriptor combinations\n",
    "groups = ['Other', 'Acylation', 'No attachments', 'Concatenated proteins',\n",
    "       'Antibody attachment (Fc)', 'AA extensions']\n",
    "\n",
    "# Loop over descriptorsets\n",
    "for group in groups:\n",
    "    \n",
    "    # Extract data\n",
    "    data_wg = data_wg.iloc[:,~data_wg.columns.str.startswith('DS3_')]\n",
    "    # Split into response and descriptors\n",
    "    data = data_wg[data_wg.Groups == group]\n",
    "    print(\"---- Evaluating group: {} with {} variables and {} rows ------\".format(group,data.shape[1]-4,data.shape[0]))\n",
    "    data.drop(\"Groups\",axis=1,inplace=True)\n",
    "    X_vivo = data.drop(PK_names,axis=1)\n",
    "    Y_vivo = data[PK_names]\n",
    "    Y_vivo = np.log(Y_vivo)\n",
    "    # Initiate list and dicts for savings\n",
    "    test_save = []\n",
    "    pandas_save_predict = {}\n",
    "    pandas_save_target = {} \n",
    "    scatter_long_pd = pd.DataFrame()\n",
    "    hyperparameter_folds = {}\n",
    "    \n",
    "    # Loop over datafolds:\n",
    "    # Note that this splitting is identical to the splitting in \"Split_data.ipynb\" to ensure fair comparison using paired t-test between RF and ANN later on\n",
    "    for j, (outer_train_idx, test_idx) in enumerate(KFold_outer.split(X_vivo, groups = X_vivo.index.get_level_values(\"nncno\"))):\n",
    "        X_train_outer, X_test, Y_train_outer, Y_test = X_vivo.iloc[outer_train_idx], X_vivo.iloc[test_idx], Y_vivo.iloc[outer_train_idx], Y_vivo.iloc[test_idx]\n",
    "        KFold_inner = GroupShuffleSplit(n_splits=1,test_size = 0.15,random_state=42).split(X_train_outer,groups =X_train_outer.index.get_level_values(\"nncno\"))    \n",
    "        \n",
    "        # Simple scaling of features if you numeric input (DS1,DS2,DS12):\n",
    "        preprocessor = Pipeline([('Scale',StandardScaler())])\n",
    "        numeric_features = list(X_train_outer.select_dtypes(include=[np.number]).columns)\n",
    "        \n",
    "        # Add PCA on smiles if we're having those descriptors in the set:\n",
    "        if data.shape[0] > 20:\n",
    "            numeric_features = [numeric_features for numeric_features in numeric_features if not numeric_features.startswith('DS4_')]\n",
    "            smiles_names = X_train_outer.iloc[:,X_train_outer.columns.str.startswith('DS4_')].columns\n",
    "            smiles_pipe = Pipeline([('Scale',StandardScaler()), ('PCA', PCA(n_components = 20))])\n",
    "            preprocessor = ColumnTransformer(transformers=[('num_pipe', preprocessor, numeric_features),('smilespca_pipe',smiles_pipe,smiles_names)],remainder='passthrough')\n",
    "            \n",
    "        # Define estimator with the relevant preprocessor accordign to descriptorset:\n",
    "        estimator = Pipeline([('preproc', preprocessor), ('RF', RandomForestRegressor(criterion='mse', n_estimators = 100,random_state = 42,min_samples_leaf=5,max_features=\"sqrt\"))])\n",
    "        # Gridsearch for hyperparameters\n",
    "        GridObject = GridSearchCV(cv = KFold_inner,estimator = estimator, param_grid = param_grid, scoring = make_scorer(mse,greater_is_better=False), n_jobs = -1, verbose = 1,return_train_score=True,refit=True)\n",
    "        GridObject.fit(X_train_outer,Y_train_outer)\n",
    "        # Save hyperparameters\n",
    "        hyperparameter_folds[j] = GridObject.best_params_\n",
    "        \n",
    "        # Use final model to predict y pred on X test. \n",
    "        ypred = pd.DataFrame(GridObject.predict(X_test),columns = Y_test.columns,index = Y_test.index)\n",
    "        # Calculate RMSE as mean across all 3 PK parameters\n",
    "        test_save.append(np.sqrt(mse(Y_test,ypred)))\n",
    "        # Save pandas dataframe for scatterplots\n",
    "        ypred = ypred.assign(Type = \"predictions\")\n",
    "        Y_test = Y_test.assign(Type = \"observations\")\n",
    "        scatter_long_tmp = pd.concat([ypred,Y_test],axis=0).reset_index().melt(id_vars = [\"nncno\",\"Type\"]).assign(Fold = j)\n",
    "        scatter_long_pd = pd.concat([scatter_long_pd,scatter_long_tmp],axis=0)\n",
    "        \n",
    "    # Save information for each descriptorset in dicts    \n",
    "    Output_dict[group]= test_save\n",
    "    Output_scatter_dict[group] = scatter_long_pd\n",
    "    Output_Hyperparameter_dict[group] = hyperparameter_folds\n",
    "\n",
    "    \n",
    "# Save ouput files\n",
    "with open('../data/processed/Random_forest_outer_test_scorer_DS124_groups.pkl','wb') as f:pickle.dump(Output_dict,f )\n",
    "with open('../data/processed/Random_forest_scatter_file_DS124_groups.pkl','wb') as f:pickle.dump(Output_scatter_dict,f )\n",
    "with open('../data/processed/Random_forest_hyperparameter_file_DS124_groups.pkl','wb') as f:pickle.dump(Output_Hyperparameter_dict,f )\n",
    "  "
   ]
  },
  {
   "cell_type": "markdown",
   "id": "6e7e8574-dfb6-457e-9caa-86b54625240a",
   "metadata": {},
   "source": [
    "# Groups on ANN results"
   ]
  },
  {
   "cell_type": "code",
   "execution_count": 9,
   "id": "bf558ae5-3f90-469c-8b98-0279a8eb78ee",
   "metadata": {},
   "outputs": [
    {
     "name": "stdout",
     "output_type": "stream",
     "text": [
      "DS1234 ANN already trained on all groups\n",
      "calculations for Antibody attachment (Fc), with 60 data points\n",
      "=================BEGINNING FOLD 1 ==============\n",
      "=================BEGINNING FOLD 2 ==============\n",
      "=================BEGINNING FOLD 3 ==============\n",
      "=================BEGINNING FOLD 4 ==============\n",
      "=================BEGINNING FOLD 5 ==============\n",
      "Completely done with group Antibody attachment (Fc)\n",
      "calculations for AA extensions, with 35 data points\n",
      "=================BEGINNING FOLD 1 ==============\n",
      "=================BEGINNING FOLD 2 ==============\n",
      "=================BEGINNING FOLD 3 ==============\n",
      "=================BEGINNING FOLD 4 ==============\n",
      "=================BEGINNING FOLD 5 ==============\n",
      "Completely done with group AA extensions\n"
     ]
    }
   ],
   "source": [
    "print(\"DS1234 ANN already trained on all groups\")\n",
    "\n",
    "groups = [\"Other\", 'Acylation', 'No attachments', 'Concatenated proteins',\n",
    "       'Antibody attachment (Fc)', 'AA extensions']  \n",
    "groups = ['Antibody attachment (Fc)', 'AA extensions']  \n",
    "\n",
    "PK_names = ['CL[ml/min/kg]', 'T1/2[h]', 'MRT[h]']\n",
    "EPOCH = 200\n",
    "N_TRIALS = 30\n",
    "# First load the data_folds\n",
    "for kk in groups:\n",
    "    \n",
    "    ## Load data in folds and select only relevant descriptorset:\n",
    "    DS12_folds = pickle.load(open('../data/processed/Data_folds_{}.pkl'.format(kk),'rb'))\n",
    "    DS1_folds = pickle.load(open('../data/processed/Data_folds_{}.pkl'.format(kk),'rb'))\n",
    "    DS2_folds = pickle.load(open('../data/processed/Data_folds_{}.pkl'.format(kk),'rb'))\n",
    "    DS4_folds = pickle.load(open('../data/processed/Data_folds_{}.pkl'.format(kk),'rb'))\n",
    "    DS3_folds = pickle.load(open('../data/processed/Data_folds_{}.pkl'.format(kk),'rb'))\n",
    "\n",
    "    for i in range(len(DS4_folds)):\n",
    "        for j in range(3):\n",
    "            DS12_folds[i][j] = contruct_descriptor_sets(DS12_folds[i][j],pd.Series(\"12\"))\n",
    "            DS1_folds[i][j] = contruct_descriptor_sets(DS1_folds[i][j],pd.Series(\"1\"))\n",
    "            DS2_folds[i][j] = contruct_descriptor_sets(DS2_folds[i][j],pd.Series(\"2\"))\n",
    "            DS3_folds[i][j] = contruct_descriptor_sets(DS3_folds[i][j],pd.Series(\"3\"))\n",
    "            DS4_folds[i][j] = contruct_descriptor_sets(DS4_folds[i][j],pd.Series(\"4\"))\n",
    "    print(\"calculations for {}, with {} data points\".format(kk,DS12_folds[0][0].shape[0] + DS12_folds[0][1].shape[0] + DS12_folds[0][2].shape[0]))    \n",
    "    # Loop over test folds DS1234\n",
    "    CV_folds_test_vivo = {}\n",
    "    for i in range(len(DS12_folds)): \n",
    "        print(\"=================BEGINNING FOLD {0} ==============\".format(i+1))\n",
    "        X_train, Y_train = DS12_folds[i][0].astype(np.float64),DS12_folds[i][3].astype(np.float32)  \n",
    "        X_val,Y_val = DS12_folds[i][1].astype(np.float64),DS12_folds[i][4].astype(np.float32)\n",
    "        X_test,Y_test = DS12_folds[i][2].astype(np.float64),DS12_folds[i][5].astype(np.float32)\n",
    "        scaler_Y = pickle.load(open('../data/processed/Scaler_Y_{}_{}.pkl'.format(kk,i),'rb'))\n",
    "\n",
    "        X_train_seq = DS3_folds[i][0].astype(np.float64)\n",
    "        X_train_seq.set_index(X_train.index,inplace = True)\n",
    "        X_val_seq = DS3_folds[i][1].astype(np.float64)\n",
    "        X_val_seq.set_index(X_val.index,inplace = True)\n",
    "        X_test_seq = DS3_folds[i][2].astype(np.float64)\n",
    "        X_test_seq.set_index(X_test.index,inplace = True)\n",
    "\n",
    "        X_train_smiles = DS4_folds[i][0].astype(np.float64)\n",
    "        X_train_smiles.set_index(X_train.index,inplace = True)\n",
    "        X_val_smiles = DS4_folds[i][1].astype(np.float64)\n",
    "        X_val_smiles.set_index(X_val.index,inplace = True)\n",
    "        X_test_smiles = DS4_folds[i][2].astype(np.float64)\n",
    "        X_test_smiles.set_index(X_test.index,inplace = True)\n",
    "\n",
    "        dataset_train = Dataset_all_conc(X_train,X_train_seq,X_train_smiles,Y_train)\n",
    "        dataset_val = Dataset_all_conc(X_val,X_val_seq,X_val_smiles,Y_val)\n",
    "        dataset_test = Dataset_all_conc(X_test,X_test_seq,X_test_smiles,Y_test)\n",
    "\n",
    "        \n",
    "        ## Use fixed batch size of 2 to be able to handle (very) small data sets:\n",
    "        study = optuna.create_study(direction=\"minimize\",pruner=optuna.pruners.MedianPruner())\n",
    "        study.optimize(lambda trial:objective_DS1234_fixed_batch_size(trial,Data_train = dataset_train ,Data_Val = dataset_val ,\n",
    "                                                 Scaler_Y= scaler_Y,EPOCH=EPOCH,save_model=True,save_path = \"../models/VIVO_FFNN_DS1234_fold{}_{}.pt\".format(i+1,kk),\n",
    "                                                  input_dim_desc = X_train.shape[1]),\n",
    "                                                  n_trials = N_TRIALS)\n",
    "        trial_ = study.best_trial\n",
    "        with open('../models/Optuna_DS1234_fold{}_{}.pkl'.format(i,kk),'wb') as f:pickle.dump(trial_.params,f )\n",
    "        print(\"Best hyperparameters for fold {0} is saved\".format(i+1))\n",
    "        print(f\" best parameters for this fold {trial_.params}\")\n",
    "        best_params = pickle.load(open('../models/Optuna_DS1234_fold{}_{}.pkl'.format(i,kk),'rb'))\n",
    "        #best_params = best_median_params\n",
    "        \n",
    "        # Build model using best hyperparameters:\n",
    "\n",
    "        model = model_DS1234_build(best_params,input_dim_desc = X_train.shape[1], X_length_DS3 = 1280,X_length_DS4 = 100,stride_CNN = 1,\n",
    "                     conv_dilation1 = 1,padding_DS3 = 0,padding_DS4 = 0, max_pool_kernel_size3 = 4)\n",
    "        #model.load_state_dict(torch.load(\"/home/kyei/Project1/Model files/VIVO_FFNN_DS1234_fold{0}.pt\".format(i+1)))\n",
    "\n",
    "        # Train model (again) on best hyperparameters for train/val diagnostic plots:\n",
    "        Vivo_train_results = train_and_validate(Params = best_params,Model = model,Data_train = dataset_train ,Data_Val = dataset_val,\n",
    "                                                scaler_Y = scaler_Y,EPOCH = EPOCH,save_model = True,save_path = \"../models/VIVO_FFNN_DS1234_fold{}_{}.pt\".format(i,kk),\n",
    "                                               trial = \"None\")\n",
    "\n",
    "        # Make test set into dataloader:\n",
    "        test_loader = DataLoader(dataset = dataset_test,batch_size=X_test.shape[0],shuffle=False,drop_last = True)\n",
    "\n",
    "        # Use best model to evaluate on unseen test data:\n",
    "        Vivo_test_results = test_FFNN(model,best_params, test_loader,scaler_Y = scaler_Y,save_path = \"../models/VIVO_FFNN_DS1234_fold{}_{}.pt\".format(i,kk),Y_data_for_index = Y_test)\n",
    "\n",
    "        # Save each individual test output for each fold:\n",
    "        with open(\"../models/Test_output_DS1234_fold_{}_{}.pkl\".format(i,kk),'wb') as f:pickle.dump(Vivo_test_results,f )\n",
    "\n",
    "        CV_folds_test_vivo[i] = Vivo_test_results\n",
    "\n",
    "        model.apply(reset_weights)\n",
    "\n",
    "    \n",
    "    with open(\"../data/processed/ANN_outer_5_test_DS1234_{}.pkl\".format(kk),'wb') as f:pickle.dump(CV_folds_test_vivo,f )\n",
    "\n",
    "    print(\"Completely done with group {}\".format(kk))"
   ]
  },
  {
   "cell_type": "code",
   "execution_count": null,
   "id": "08d0175e-72af-4edc-81ad-c1d92fe047d4",
   "metadata": {},
   "outputs": [],
   "source": []
  },
  {
   "cell_type": "code",
   "execution_count": null,
   "id": "cef131ba-358e-4eb3-8b2a-7c17c74f2e68",
   "metadata": {},
   "outputs": [],
   "source": []
  }
 ],
 "metadata": {
  "kernelspec": {
   "display_name": "Python 3 (ipykernel)",
   "language": "python",
   "name": "python3"
  },
  "language_info": {
   "codemirror_mode": {
    "name": "ipython",
    "version": 3
   },
   "file_extension": ".py",
   "mimetype": "text/x-python",
   "name": "python",
   "nbconvert_exporter": "python",
   "pygments_lexer": "ipython3",
   "version": "3.9.13"
  }
 },
 "nbformat": 4,
 "nbformat_minor": 5
}
